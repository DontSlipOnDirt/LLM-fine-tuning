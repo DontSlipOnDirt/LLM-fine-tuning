{
 "cells": [
  {
   "cell_type": "markdown",
   "id": "a6dc9f26",
   "metadata": {},
   "source": [
    "## Intro\n",
    "Load and use model for inference by using the HuggingFace pipeline API. More information can be found here: https://huggingface.co/docs/transformers/en/pipeline_tutorial & https://huggingface.co/docs/transformers/v4.52.2/en/main_classes/pipelines#pipelines.\n",
    "\n",
    "\n",
    "This notebook goes over these NLP tasks:\n",
    "- text-generation\n",
    "- text classification\n",
    "- summarization"
   ]
  },
  {
   "cell_type": "code",
   "execution_count": 6,
   "id": "85bc405c",
   "metadata": {},
   "outputs": [],
   "source": [
    "# import pipeline function from the HuggingFace transformers library\n",
    "# this should run automatically if you have the correct python environment selected\n",
    "from transformers import pipeline"
   ]
  },
  {
   "cell_type": "markdown",
   "id": "484b82e9",
   "metadata": {},
   "source": [
    "## 1. NLP tasks"
   ]
  },
  {
   "cell_type": "code",
   "execution_count": 16,
   "id": "4ba9abe0",
   "metadata": {},
   "outputs": [
    {
     "name": "stderr",
     "output_type": "stream",
     "text": [
      "Device set to use cuda:0\n"
     ]
    },
    {
     "data": {
      "text/plain": [
       "[{'generated_text': 'Explain causal inference in a simple way. Causal inference is like figuring out why something happened. Imagine you want to know why it rained today. You might ask, \"Why did it rain?\" To answer this question, you need to look at all the things that could have caused the rain, like a storm, a cloud cover, or changes in the weather. Once you find out what caused the rain, you can say that it was because of those things. In statistics and research, we use different methods to find out the causes of events or outcomes, and we call it causal inference.'}]"
      ]
     },
     "execution_count": 16,
     "metadata": {},
     "output_type": "execute_result"
    }
   ],
   "source": [
    "# this pipeline example uses the text-generation task and loads the pre-trained model Qwen 2.5 with 1.5B parameters\n",
    "text_gen_pipeline = pipeline(task=\"text-generation\", model=\"Qwen/Qwen2.5-1.5B\")\n",
    "# sends prompt to LLM running in pipeline\n",
    "text_gen_pipeline(\"Explain causal inference\")"
   ]
  },
  {
   "cell_type": "code",
   "execution_count": 15,
   "id": "6a57ec03",
   "metadata": {},
   "outputs": [
    {
     "name": "stderr",
     "output_type": "stream",
     "text": [
      "Some weights of the model checkpoint at microsoft/deberta-large-mnli were not used when initializing DebertaForSequenceClassification: ['config']\n",
      "- This IS expected if you are initializing DebertaForSequenceClassification from the checkpoint of a model trained on another task or with another architecture (e.g. initializing a BertForSequenceClassification model from a BertForPreTraining model).\n",
      "- This IS NOT expected if you are initializing DebertaForSequenceClassification from the checkpoint of a model that you expect to be exactly identical (initializing a BertForSequenceClassification model from a BertForSequenceClassification model).\n",
      "Device set to use cuda:0\n"
     ]
    },
    {
     "data": {
      "text/plain": [
       "[{'label': 'NEUTRAL', 'score': 0.9697136878967285},\n",
       " {'label': 'NEUTRAL', 'score': 0.8086584806442261}]"
      ]
     },
     "execution_count": 15,
     "metadata": {},
     "output_type": "execute_result"
    }
   ],
   "source": [
    "# this pipeline example uses the text-classification task with the most downloaded text-classification model from HuggingFace hub\n",
    "text_class_pipeline = pipeline(task=\"text-classification\", model=\"microsoft/deberta-large-mnli\")\n",
    "# sends text to model running in pipeline\n",
    "# we can send multiple inputs by sending them as a list closed in []\n",
    "text_class_pipeline([\"Water is a delicious drink\", \"Mate tastes disgusting\"])"
   ]
  },
  {
   "cell_type": "code",
   "execution_count": 17,
   "id": "c09afafe",
   "metadata": {},
   "outputs": [
    {
     "name": "stderr",
     "output_type": "stream",
     "text": [
      "Xet Storage is enabled for this repo, but the 'hf_xet' package is not installed. Falling back to regular HTTP download. For better performance, install the package with: `pip install huggingface_hub[hf_xet]` or `pip install hf_xet`\n",
      "Device set to use cuda:0\n"
     ]
    },
    {
     "data": {
      "text/plain": [
       "[{'summary_text': 'Liana Barrientos, 39, is charged with two counts of \"offering a false instrument for filing in the first degree\" In total, she has been married 10 times, with nine of her marriages occurring between 1999 and 2002. She is believed to still be married to four men, and at one time, she was married to eight men.'}]"
      ]
     },
     "execution_count": 17,
     "metadata": {},
     "output_type": "execute_result"
    }
   ],
   "source": [
    "# summarization task with another model found off HuggingFace hub\n",
    "summarization_pipeline = pipeline(task=\"summarization\", model=\"facebook/bart-large-cnn\")\n",
    "# send text to model running in pipeline\n",
    "article = \"\"\" New York (CNN)When Liana Barrientos was 23 years old, she got married in Westchester County, New York.\n",
    "A year later, she got married again in Westchester County, but to a different man and without divorcing her first husband.\n",
    "Only 18 days after that marriage, she got hitched yet again. Then, Barrientos declared \"I do\" five more times, sometimes only within two weeks of each other.\n",
    "In 2010, she married once more, this time in the Bronx. In an application for a marriage license, she stated it was her \"first and only\" marriage.\n",
    "Barrientos, now 39, is facing two criminal counts of \"offering a false instrument for filing in the first degree,\" referring to her false statements on the\n",
    "2010 marriage license application, according to court documents.\n",
    "Prosecutors said the marriages were part of an immigration scam.\n",
    "On Friday, she pleaded not guilty at State Supreme Court in the Bronx, according to her attorney, Christopher Wright, who declined to comment further.\n",
    "After leaving court, Barrientos was arrested and charged with theft of service and criminal trespass for allegedly sneaking into the New York subway through an emergency exit, said Detective\n",
    "Annette Markowski, a police spokeswoman. In total, Barrientos has been married 10 times, with nine of her marriages occurring between 1999 and 2002.\n",
    "All occurred either in Westchester County, Long Island, New Jersey or the Bronx. She is believed to still be married to four men, and at one time, she was married to eight men at once, prosecutors say.\n",
    "Prosecutors said the immigration scam involved some of her husbands, who filed for permanent residence status shortly after the marriages.\n",
    "Any divorces happened only after such filings were approved. It was unclear whether any of the men will be prosecuted.\n",
    "The case was referred to the Bronx District Attorney\\'s Office by Immigration and Customs Enforcement and the Department of Homeland Security\\'s\n",
    "Investigation Division. Seven of the men are from so-called \"red-flagged\" countries, including Egypt, Turkey, Georgia, Pakistan and Mali.\n",
    "Her eighth husband, Rashid Rajput, was deported in 2006 to his native Pakistan after an investigation by the Joint Terrorism Task Force.\n",
    "If convicted, Barrientos faces up to four years in prison.  Her next court appearance is scheduled for May 18.\n",
    "\"\"\"\n",
    "\n",
    "summarization_pipeline(article)"
   ]
  }
 ],
 "metadata": {
  "kernelspec": {
   "display_name": ".venv",
   "language": "python",
   "name": "python3"
  },
  "language_info": {
   "codemirror_mode": {
    "name": "ipython",
    "version": 3
   },
   "file_extension": ".py",
   "mimetype": "text/x-python",
   "name": "python",
   "nbconvert_exporter": "python",
   "pygments_lexer": "ipython3",
   "version": "3.12.10"
  }
 },
 "nbformat": 4,
 "nbformat_minor": 5
}
